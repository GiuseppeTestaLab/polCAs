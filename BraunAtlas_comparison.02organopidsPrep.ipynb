{
 "cells": [
  {
   "cell_type": "code",
   "execution_count": 1,
   "metadata": {},
   "outputs": [
    {
     "name": "stderr",
     "output_type": "stream",
     "text": [
      "/group/testa/Users/davide.castaldi/Polaroid_publication_revisions/.local/lib/python3.8/site-packages/setuptools_scm/_integration/setuptools.py:30: RuntimeWarning: \n",
      "ERROR: setuptools==56.1.0 is used in combination with setuptools_scm>=8.x\n",
      "\n",
      "Your build configuration is incomplete and previously worked by accident!\n",
      "setuptools_scm requires setuptools>=61\n",
      "\n",
      "Suggested workaround if applicable:\n",
      " - migrating from the deprecated setup_requires mechanism to pep517/518\n",
      "   and using a pyproject.toml to declare build dependencies\n",
      "   which are reliably pre-installed before running the build tools\n",
      "\n",
      "  warnings.warn(\n"
     ]
    }
   ],
   "source": [
    "import scanpy as sc\n",
    "import pandas as pd\n",
    "from matplotlib import pylab\n",
    "import random\n",
    "import matplotlib.pyplot as plt\n",
    "import seaborn as sns\n",
    "import plotly.express as px\n",
    "import itertools\n",
    "import numpy as np\n",
    "import random\n",
    "import PyWGCNA\n",
    "import anndata as ad\n",
    "from scipy import sparse\n",
    "\n",
    "from matplotlib.colors import TwoSlopeNorm\n",
    "\n",
    "import scanpy.external as sce"
   ]
  },
  {
   "cell_type": "code",
   "execution_count": 2,
   "metadata": {},
   "outputs": [],
   "source": [
    "sc.settings.set_figure_params(dpi=100, facecolor='white', dpi_save=500)\n",
    "pylab.rcParams['figure.figsize'] = (9, 9)\n"
   ]
  },
  {
   "cell_type": "code",
   "execution_count": 4,
   "metadata": {},
   "outputs": [],
   "source": [
    "xgenes = pd.read_csv(\"./data/resources/X.genes.tsv\", header=None)[0].tolist()\n",
    "ygenes = pd.read_csv(\"./data/resources/Y.genes.tsv\", header=None)[0].tolist()"
   ]
  },
  {
   "cell_type": "markdown",
   "metadata": {},
   "source": [
    "# PolCAs "
   ]
  },
  {
   "cell_type": "code",
   "execution_count": 6,
   "metadata": {},
   "outputs": [],
   "source": [
    "polCAs = sc.read(\"./outdir/3_polaroid_quickAnno.h5ad\")\n",
    "polCAsRAws = sc.read_h5ad(\"./outdir/1_polaroid_mint.h5ad\")[polCAs.obs_names]\n",
    "sc.pp.normalize_total(polCAsRAws,target_sum=20000, exclude_highly_expressed=True)\n",
    "polCAsRAws.obs[\"Protocol\"] = \"polCAs\"\n",
    "polCAsRAws.obs[\"sample\"] = polCAsRAws.obs[\"organoid\"]\n",
    "polCAsRAws.obs[\"OriginAnnotation\"] = polCAs.obs.loc[polCAsRAws.obs_names,\"leidenAnno\"]\n"
   ]
  },
  {
   "cell_type": "markdown",
   "metadata": {},
   "source": [
    "# Velasco"
   ]
  },
  {
   "cell_type": "code",
   "execution_count": 8,
   "metadata": {},
   "outputs": [],
   "source": [
    "Velasco_3M_B1 = sc.read_text(\"./data/Velasco/Velasco_2019_3Month_B1.txt.gz\").T\n",
    "Velasco_3M_B1.X = sparse.csr_matrix(Velasco_3M_B1.X)\n",
    "Velasco_3M_B2 = sc.read_text(\"./data/Velasco/Velasco_2019_3Month_B2.txt.gz\").T\n",
    "Velasco_3M_B2.X = sparse.csr_matrix(Velasco_3M_B2.X)\n",
    "Velasco_3M_B2.obs[\"Replicate\"] = \"B2\"\n",
    "Velasco_3M_B1.obs[\"Replicate\"] = \"B1\"\n",
    "VelascoCombined = ad.concat([Velasco_3M_B2, Velasco_3M_B1])\n",
    "MD = pd.read_csv(\"./data/Velasco/meta_combined.txt\", sep=\"\\t\", index_col=0)\n",
    "MD = MD[MD.Batch != \"group\"]\n",
    "MD.index.name = None\n",
    "\n",
    "VelascoCombined.obs = pd.concat([VelascoCombined.obs,MD], axis = 1).dropna().loc[VelascoCombined.obs.index.tolist()]\n",
    "VelascoCombined.obs[\"sample\"] = VelascoCombined.obs[\"Replicate\"]\n",
    "VelascoCombined.obs[\"Protocol\"] = \"Velasco\"\n",
    "VelascoCombined.obs[\"Protocol_sample\"] = VelascoCombined.obs[\"Protocol\"].astype(\"str\") + \"_\" + VelascoCombined.obs[\"sample\"].astype(\"str\")\n",
    "VelascoCombined.obs[\"OriginAnnotation\"] = VelascoCombined.obs[\"CellType\"]\n",
    "# Revert to 20k normalized counts (authors normalized with target 1M counts)\n",
    "VelascoCombined.X = np.expm1(VelascoCombined.X) / 50\n",
    "VelascoCombined = VelascoCombined[VelascoCombined.obs[\"OriginAnnotation\"].isin([\"CFuPNs\",\"Cycling\",\"RG\",\"CPNs\"])]\n"
   ]
  },
  {
   "cell_type": "code",
   "execution_count": 9,
   "metadata": {},
   "outputs": [
    {
     "data": {
      "text/plain": [
       "['CFuPNs', 'Cycling', 'RG', 'CPNs']"
      ]
     },
     "execution_count": 9,
     "metadata": {},
     "output_type": "execute_result"
    }
   ],
   "source": [
    "\n",
    "VelascoCombined.obs.OriginAnnotation.unique().tolist()"
   ]
  },
  {
   "cell_type": "code",
   "execution_count": 10,
   "metadata": {},
   "outputs": [
    {
     "data": {
      "text/plain": [
       "22161"
      ]
     },
     "execution_count": 10,
     "metadata": {},
     "output_type": "execute_result"
    }
   ],
   "source": [
    "# Check common genes\n",
    "len(VelascoCombined.var_names.intersection(polCAsRAws.var_names))\n"
   ]
  },
  {
   "cell_type": "markdown",
   "metadata": {},
   "source": [
    "# Kanton"
   ]
  },
  {
   "cell_type": "code",
   "execution_count": 12,
   "metadata": {},
   "outputs": [],
   "source": [
    "\n",
    "\n",
    "Kanton = sc.read_10x_mtx(\"./data/Kanton/\")\n",
    "obs = [\"CB\",\"Species\",\"Stage\",\"Line\",\"Sample\",\"Barcode\",\"PredCellType\",\"nGene\",\"nUMI\",\"PercentMito\",\"in_FullLineage\",\"in_LineComp\",\"in_DE\",\"pseudocellIdx_FullLineage\",\"pseudocellIdx_LineComp\",\"pseudocellIdx_DE\",\"cl_FullLineage\",\"cl_LineComp\"]\n",
    "obs = [\"CB\",\"Species\",\"Stage\",\"Line\",\"Sample\",\"Barcode\",\"PredCellType\",\"nGene\",\"nUMI\",\"PercentMito\",\"in_FullLineage\",\"in_LineComp\",\"in_DE\",\"pseudocellIdx_FullLineage\",\"pseudocellIdx_LineComp\",\"pseudocellIdx_DE\",\"cl_FullLineage\",\"cl_LineComp\"]\n",
    "obs = pd.read_csv(\"./data/Kanton/barcodes.tsv\", delimiter=\"\\t\", header=None, names=obs, index_col=0)\n",
    "obs.index.name = None\n",
    "obs\n",
    "Kanton.obs = obs\n",
    "Kanton.obs[\"Protocol\"] = \"Kanton\"\n",
    "Kanton = Kanton[Kanton.obs.Stage.str.contains(\"Organoid-2M\")]\n",
    "Kanton = Kanton[~Kanton.obs[\"Sample\"].str.contains(\"HipSci\")]\n",
    "sc.pp.normalize_total(Kanton,target_sum=20000, exclude_highly_expressed=True)\n",
    "\n",
    "\n",
    "\n",
    "Kanton.obs[\"sample\"] = Kanton.obs[\"Sample\"]\n",
    "Kanton.obs[\"Protocol\"] = \"Kanton\"\n",
    "\n",
    "Kanton = Kanton[Kanton.obs.cl_FullLineage.isin([\"cycling dorsal progenitors\",\"cortical neurons 1\",\"RGCs early 2\",\"RGCs 3\",\"IPs and early cortical neurons\"])]\n",
    "Kanton.obs[\"OriginAnnotation\"] = Kanton.obs[\"cl_FullLineage\"]"
   ]
  },
  {
   "cell_type": "markdown",
   "metadata": {},
   "source": [
    "# Concat"
   ]
  },
  {
   "cell_type": "code",
   "execution_count": 13,
   "metadata": {},
   "outputs": [],
   "source": [
    "OrganoidsAll = ad.concat([VelascoCombined,polCAsRAws,Kanton ])"
   ]
  },
  {
   "cell_type": "code",
   "execution_count": 14,
   "metadata": {},
   "outputs": [],
   "source": [
    "OrganoidsAll = OrganoidsAll[:,~OrganoidsAll.var_names.isin(xgenes+ygenes)]"
   ]
  },
  {
   "cell_type": "code",
   "execution_count": 15,
   "metadata": {},
   "outputs": [],
   "source": [
    "OrganoidsAll.write_h5ad(\"./data/AllOrganoids.h5ad\")"
   ]
  },
  {
   "cell_type": "code",
   "execution_count": 16,
   "metadata": {},
   "outputs": [
    {
     "data": {
      "text/plain": [
       "AnnData object with n_obs × n_vars = 50529 × 21219\n",
       "    obs: 'sample', 'Protocol', 'OriginAnnotation'"
      ]
     },
     "execution_count": 16,
     "metadata": {},
     "output_type": "execute_result"
    }
   ],
   "source": [
    "OrganoidsAll\n"
   ]
  }
 ],
 "metadata": {
  "kernelspec": {
   "display_name": "Python 3",
   "language": "python",
   "name": "python3"
  },
  "language_info": {
   "codemirror_mode": {
    "name": "ipython",
    "version": 3
   },
   "file_extension": ".py",
   "mimetype": "text/x-python",
   "name": "python",
   "nbconvert_exporter": "python",
   "pygments_lexer": "ipython3",
   "version": "3.8.5"
  }
 },
 "nbformat": 4,
 "nbformat_minor": 2
}
