{
 "cells": [
  {
   "cell_type": "code",
   "execution_count": 1,
   "metadata": {},
   "outputs": [],
   "source": [
    "\n",
    "import scanpy as sc, anndata as ad, numpy as np, pandas as pd\n",
    "from scipy import sparse\n",
    "from anndata import AnnData\n",
    "import warnings\n",
    "import socket\n",
    "from matplotlib import pylab\n",
    "import sys\n",
    "import yaml\n",
    "import os\n",
    "import matplotlib.pyplot as plt\n",
    "import scvelo as scv\n",
    "from pybiomart import Server\n",
    "from tqdm.notebook import tqdm\n",
    "import itertools\n",
    "import random\n",
    "\n",
    "warnings.filterwarnings('ignore')"
   ]
  },
  {
   "cell_type": "code",
   "execution_count": 2,
   "metadata": {},
   "outputs": [],
   "source": [
    "get_ipython().run_line_magic('matplotlib', 'inline')"
   ]
  },
  {
   "cell_type": "code",
   "execution_count": 3,
   "metadata": {},
   "outputs": [
    {
     "name": "stdout",
     "output_type": "stream",
     "text": [
      "scanpy==1.8.1 anndata==0.7.6 umap==0.4.6 numpy==1.20.2 scipy==1.6.3 pandas==1.2.4 scikit-learn==0.24.2 statsmodels==0.13.1 python-igraph==0.9.8 louvain==0.7.1 pynndescent==0.5.5\n"
     ]
    }
   ],
   "source": [
    "\n",
    "sc.settings.verbosity = 3         # verbosity: errors (0), warnings (1), info (2), hints (3)\n",
    "sc.logging.print_header()\n",
    "sc.settings.set_figure_params(dpi=50, facecolor='white')\n",
    "pylab.rcParams['figure.figsize'] = (4, 4)"
   ]
  },
  {
   "cell_type": "code",
   "execution_count": 4,
   "metadata": {},
   "outputs": [],
   "source": [
    "outdir=\"./outdir\""
   ]
  },
  {
   "cell_type": "code",
   "execution_count": 5,
   "metadata": {},
   "outputs": [],
   "source": [
    "externalDataNowa = outdir+\"/BadhuriCurated.h5ad\"\n",
    "externalDataNowaraw = \"./data/Badhuri_atlas.h5ad\""
   ]
  },
  {
   "cell_type": "code",
   "execution_count": 6,
   "metadata": {},
   "outputs": [
    {
     "name": "stdout",
     "output_type": "stream",
     "text": [
      "normalizing counts per cell\n",
      "    finished (0:00:02)\n"
     ]
    }
   ],
   "source": [
    "\n",
    "# Extract metadata and combine with raws\n",
    "adata = sc.read_h5ad(externalDataNowaraw)\n",
    "#re index with symbols\n",
    "\n",
    "ENSG_to_SYMBOL = adata.var.copy()\n",
    "\n",
    "\n",
    "adata.var.index = adata.var.feature_name\n",
    "adata.var.index.name = None\n",
    "obsMD = sc.read_h5ad(externalDataNowa).raw.to_adata().obs\n",
    "\n",
    "\n",
    "#Subset raw obs with processed obs\n",
    "adata = adata[obsMD.index]\n",
    "\n",
    "\n",
    "# OBS metadata\n",
    "colsToImport = [col for col in obsMD.columns.tolist() if col not in adata.obs.columns.tolist()]\n",
    "obsMD = obsMD[colsToImport]\n",
    "adata.obs = pd.concat([adata.obs, obsMD[colsToImport]], axis = 1)\n",
    "\n",
    "\n",
    "adataRaw = adata.raw.to_adata().copy()\n",
    "adataRaw.var = pd.concat([adataRaw.var,ENSG_to_SYMBOL], axis = 1)\n",
    "adataRaw.var.index = adataRaw.var.feature_name\n",
    "adataRaw.var.index.name = None\n",
    "adataRaw.var = adataRaw.var[[\"feature_name\"]]\n",
    "adataRaw.var = adataRaw.var.drop(columns=\"feature_name\")\n",
    "\n",
    "\n",
    "# Replace processed X with raws .raw of *prebulk files will contain norm and logged counts\n",
    "adata.X = adataRaw[adata.obs_names,adata.var_names ].X.copy()\n",
    "adata.raw = sc.pp.log1p(sc.pp.normalize_total(adataRaw,copy=True), copy = True).copy()\n",
    "adata.var = adata.var[[\"feature_name\"]]\n",
    "adata.var = adata.var.drop(columns=\"feature_name\")"
   ]
  },
  {
   "cell_type": "code",
   "execution_count": 7,
   "metadata": {},
   "outputs": [
    {
     "name": "stdout",
     "output_type": "stream",
     "text": [
      "normalizing counts per cell\n",
      "    finished (0:00:02)\n"
     ]
    }
   ],
   "source": [
    "adata.layers[\"mint\"] = adata.X.copy()\n",
    "\n",
    "sc.pp.normalize_total(adata)"
   ]
  },
  {
   "cell_type": "code",
   "execution_count": 8,
   "metadata": {},
   "outputs": [
    {
     "name": "stderr",
     "output_type": "stream",
     "text": [
      "Trying to set attribute `.obs` of view, copying.\n",
      "... storing 'development_stage_new' as categorical\n",
      "Trying to set attribute `.obs` of view, copying.\n",
      "... storing 'development_stage_new' as categorical\n",
      "Trying to set attribute `.obs` of view, copying.\n",
      "... storing 'development_stage_new' as categorical\n"
     ]
    }
   ],
   "source": [
    "# In[ ]:\n",
    "#Geschw classes : \n",
    "# ExN      117523\n",
    "# ExM      102893\n",
    "# ExDp1     18358\n",
    "# ExM-U     12528\n",
    "# ExDp2       707\n",
    "\n",
    "adataBU = adata.copy()\n",
    "\n",
    "\n",
    "\n",
    "\n",
    "#1) Focus on maturingExcitatory neurons  regardless gw WE ENTIRELY RMEOVED BATCH1\n",
    "\n",
    "adata = adataBU.copy()\n",
    "FinaLeaf=\"/Neurons\"\n",
    "if not os.path.isdir(outdir+FinaLeaf):\n",
    "    os.mkdir(outdir+FinaLeaf)\n",
    "##ExM ANALYSIS\n",
    "##ExM ANALYSIS\n",
    "##ExM ANALYSIS\n",
    "adata.obs[\"development_stage_new\"] = adata.obs[\"development_stage\"].str.split(\" \", expand=True)[0]   \n",
    "adata = adata[(adata.obs[\"GeschIngestedAnno\"] == \"maturingExcitatory\") & (adata.obs[\"cluster_label_aggr\"] == \"excitatory\") & (adata.obs[\"batch\"] != \"Batch1\") ]\n",
    "#check previous version -> sc.read_h5ad(\"./outdir/Neurons/Badhuri_neurons_prebulk.Curated.h5ad\")\n",
    "adata.write_h5ad(outdir+FinaLeaf+\"/Badhuri_Neurons_prebulk.Curated.h5ad\")\n",
    "\n",
    "\n",
    "\n",
    "#8) Cycling only\n",
    "adata = adataBU.copy()\n",
    "FinaLeaf=\"/Cycling\"\n",
    "##dividing ANALYSIS\n",
    "##dividing ANALYSIS\n",
    "##dividing ANALYSIS\n",
    "adata.obs[\"development_stage_new\"] = adata.obs[\"development_stage\"].str.split(\" \", expand=True)[0]   \n",
    "\n",
    "barcodelist = pd.read_csv(outdir+FinaLeaf+\"/Badhuri_cycling_prebulk.Curated.barcodelist.tsv\", sep=\"\\t\")[\"0\"].tolist()\n",
    "adata = adata[adata.obs_names.isin(barcodelist)]\n",
    "#check previous version -> sc.read_h5ad(\"./outdir/Cycling/Badhuri_cycling_prebulk.Curated.h5ad\")\n",
    "adata.write_h5ad(outdir+FinaLeaf+\"/Badhuri_cycling_prebulk.Curated.h5ad\")\n",
    "\n",
    "\n",
    "\n",
    "\n",
    "#9) Progenitors only\n",
    "adata = adataBU.copy()\n",
    "FinaLeaf=\"/Progenitors\"\n",
    "##Progenitors ANALYSIS\n",
    "##Progenitors ANALYSIS\n",
    "##Progenitors ANALYSIS\n",
    "adata.obs[\"development_stage_new\"] = adata.obs[\"development_stage\"].str.split(\" \", expand=True)[0]   \n",
    "\n",
    "barcodelist = pd.read_csv(outdir+FinaLeaf+\"/Badhuri_progenitors_prebulk.Curated.barcodelist.tsv\", sep=\"\\t\")[\"0\"].tolist()\n",
    "adata = adata[adata.obs_names.isin(barcodelist)]\n",
    "#check previous version -> sc.read_h5ad(\"./outdir/Progenitors/Badhuri_progenitors_prebulk.Curated.h5ad\")\n",
    "adata.write_h5ad(outdir+FinaLeaf+\"/Badhuri_progenitors_prebulk.Curated.h5ad\")\n",
    "\n",
    "\n",
    "\n",
    "\n"
   ]
  },
  {
   "cell_type": "code",
   "execution_count": null,
   "metadata": {},
   "outputs": [],
   "source": []
  }
 ],
 "metadata": {
  "kernelspec": {
   "display_name": "Python 3",
   "language": "python",
   "name": "python3"
  },
  "language_info": {
   "codemirror_mode": {
    "name": "ipython",
    "version": 3
   },
   "file_extension": ".py",
   "mimetype": "text/x-python",
   "name": "python",
   "nbconvert_exporter": "python",
   "pygments_lexer": "ipython3",
   "version": "3.8.5"
  },
  "orig_nbformat": 4
 },
 "nbformat": 4,
 "nbformat_minor": 2
}
