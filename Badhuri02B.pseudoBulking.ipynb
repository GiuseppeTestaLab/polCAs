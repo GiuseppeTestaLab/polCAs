{
 "cells": [
  {
   "cell_type": "code",
   "execution_count": 1,
   "id": "3fd9b94a-57df-462e-a8ad-3878d515a910",
   "metadata": {},
   "outputs": [
    {
     "name": "stdout",
     "output_type": "stream",
     "text": [
      "scanpy==1.8.1 anndata==0.7.6 umap==0.4.6 numpy==1.20.2 scipy==1.6.3 pandas==1.2.4 scikit-learn==0.24.2 statsmodels==0.13.1 python-igraph==0.9.8 louvain==0.7.1 pynndescent==0.5.5\n"
     ]
    }
   ],
   "source": [
    "import scanpy as sc, anndata as ad, numpy as np, pandas as pd\n",
    "from scipy import sparse\n",
    "from anndata import AnnData\n",
    "import warnings\n",
    "import socket\n",
    "from matplotlib import pylab\n",
    "import sys\n",
    "import yaml\n",
    "import os\n",
    "import matplotlib.pyplot as plt\n",
    "import scvelo as scv\n",
    "from pybiomart import Server\n",
    "from tqdm.notebook import tqdm\n",
    "import itertools\n",
    "import plotly.express as px\n",
    "import math\n",
    "\n",
    "import random\n",
    "\n",
    "warnings.filterwarnings('ignore')\n",
    "\n",
    "\n",
    "# In[2]:\n",
    "\n",
    "\n",
    "get_ipython().run_line_magic('matplotlib', 'inline')\n",
    "\n",
    "\n",
    "# In[3]:\n",
    "\n",
    "\n",
    "sc.settings.verbosity = 3         # verbosity: errors (0), warnings (1), info (2), hints (3)\n",
    "sc.logging.print_header()\n",
    "sc.settings.set_figure_params(dpi=50, facecolor='white')\n",
    "pylab.rcParams['figure.figsize'] = (4, 4)"
   ]
  },
  {
   "cell_type": "markdown",
   "id": "56d9e0de-b4cc-4384-9d01-cc1543c81637",
   "metadata": {},
   "source": [
    "### Configure paths"
   ]
  },
  {
   "cell_type": "code",
   "execution_count": 2,
   "id": "746ccaf5-6c48-449c-8588-e7df21b32403",
   "metadata": {},
   "outputs": [],
   "source": [
    "\n",
    "outdir=\"./outdir\"\n",
    "\n"
   ]
  },
  {
   "cell_type": "markdown",
   "id": "6e6eb96b-3235-4748-b9a7-1ed8752b8fc0",
   "metadata": {},
   "source": [
    "# Cycling Curated"
   ]
  },
  {
   "cell_type": "code",
   "execution_count": 3,
   "id": "2f4348d4-0b5b-4d90-b1ae-ecf434880343",
   "metadata": {},
   "outputs": [
    {
     "data": {
      "text/plain": [
       "cortical_area  individual\n",
       "motor          GW14            83\n",
       "               GW16          1377\n",
       "               GW17           254\n",
       "               GW18            14\n",
       "               GW18_2         867\n",
       "                             ... \n",
       "v1             GW20_31        556\n",
       "               GW20_34        373\n",
       "               GW22           253\n",
       "               GW22T            0\n",
       "               GW25             0\n",
       "Length: 72, dtype: int64"
      ]
     },
     "execution_count": 3,
     "metadata": {},
     "output_type": "execute_result"
    }
   ],
   "source": [
    "Finaleaf=\"/Cycling\"\n",
    "adata = sc.read_h5ad(outdir+Finaleaf+\"/Badhuri_cycling_prebulk.Curated.h5ad\")\n",
    "sc.pp.calculate_qc_metrics(adata,  percent_top=None, log1p=False, inplace=True)\n",
    "\n",
    "adata\n",
    "\n",
    "adata.obs[\"individual_region\"] = adata.obs[\"individual\"].astype(str)+\"_\"+ adata.obs[\"cortical_area\"].astype(str)\n",
    "adata.obs[\"individual_region\"] = adata.obs[\"individual_region\"].astype(\"category\")\n",
    "adata.obs[\"individual_region\"]\n",
    "\n",
    "adata.obs.groupby([\"cortical_area\",\"individual\"]).size()"
   ]
  },
  {
   "cell_type": "markdown",
   "id": "5d53a1fe-948c-487e-ac71-48ce878bf4b1",
   "metadata": {},
   "source": [
    "## Groupingfactor = cortical_area"
   ]
  },
  {
   "cell_type": "code",
   "execution_count": 4,
   "id": "6c33983d-26fa-4730-82f1-641d6a0df3b4",
   "metadata": {},
   "outputs": [
    {
     "name": "stdout",
     "output_type": "stream",
     "text": [
      "Pbulking with target of 20 PRs will result in following cells per PR\n"
     ]
    },
    {
     "data": {
      "text/plain": [
       "cortical_area\n",
       "motor            193.35\n",
       "parietal         235.85\n",
       "pfc              170.15\n",
       "somatosensory    188.65\n",
       "temporal         184.25\n",
       "v1               251.40\n",
       "dtype: float64"
      ]
     },
     "execution_count": 4,
     "metadata": {},
     "output_type": "execute_result"
    }
   ],
   "source": [
    "groupingCovariate = \"cortical_area\"\n",
    "PseudooReplicates_per_group = 20\n",
    "print(\"Pbulking with target of \"+str(PseudooReplicates_per_group)+\" PRs will result in following cells per PR\")\n",
    "adata.obs.groupby(groupingCovariate).size() / PseudooReplicates_per_group\n"
   ]
  },
  {
   "cell_type": "code",
   "execution_count": 5,
   "id": "77349946-cd65-4afe-b7c6-22c7a80bbf83",
   "metadata": {},
   "outputs": [],
   "source": [
    "total = pd.DataFrame(index = adata.var_names)\n",
    "total_metadata = pd.DataFrame()\n",
    "for group in adata.obs[groupingCovariate].cat.categories:\n",
    "\n",
    "    groupAdata = adata[adata.obs[groupingCovariate] == group].copy()\n",
    "    \n",
    "#    if groupAdata.shape[0] < 500:\n",
    "#        continue\n",
    "    \n",
    "\n",
    "    group_cells = adata[adata.obs[groupingCovariate] == group].obs_names.tolist()\n",
    "    random.shuffle(group_cells)\n",
    "\n",
    "    metaCellslist=[group_cells[i::PseudooReplicates_per_group] for i in range(PseudooReplicates_per_group)]\n",
    "\n",
    "    for partition in enumerate(metaCellslist):\n",
    "\n",
    "        total['{}_{}'.format(group, partition[0])] = adata[partition[1]].X.sum(axis = 0).A1\n",
    "\n",
    "        total_metadata.loc['{}_{}'.format(group, partition[0]),\"group\"] = group\n",
    "        total_metadata.loc['{}_{}'.format(group, partition[0]),\"pseudoreplicate\"] = partition[0]\n",
    "        total_metadata.loc['{}_{}'.format(group, partition[0]),\"number_of_cell\"] = int(len(partition[1]))\n",
    "    \n",
    "    for obsMD in [obsMD for obsMD in groupAdata.obs.columns.tolist() if len(groupAdata.obs[obsMD].unique()) == 1 and obsMD != groupingCovariate]:\n",
    "        total_metadata.loc[[\"_\".join(l) for l in list(itertools.product([group],[str(r)  for r in list(range(PseudooReplicates_per_group))]))], obsMD ] = adata.obs.loc[adata.obs[groupingCovariate] == group,obsMD][0]\n",
    "        \n",
    "        \n",
    "total_metadata = total_metadata.dropna(axis = 1)"
   ]
  },
  {
   "cell_type": "code",
   "execution_count": 6,
   "id": "89519e59-3140-4617-b322-1653ad6ad970",
   "metadata": {},
   "outputs": [],
   "source": [
    "adata_bulk = sc.AnnData(total.transpose()).copy()\n",
    "adata_bulk.var = adata.var.copy()\n",
    "adata_bulk.obs = pd.concat([adata_bulk.obs, total_metadata], axis = 1)\n",
    "\n",
    "\n",
    "with open(\"./colorMap.yaml\", 'r') as f:\n",
    "    colorMap = yaml.load(f, Loader=yaml.FullLoader)[\"uns_colors\"]\n",
    "colorMap\n",
    "\n",
    "adata_bulk.obs[\"group\"] = adata_bulk.obs[\"group\"].astype(\"category\")\n",
    "adata_bulk.uns[\"group_colors\"] = [colorMap[i][\"color\"] for i in adata_bulk.obs[\"group\"].cat.categories]\n",
    "\n",
    "\n",
    "\n",
    "\n",
    "\n",
    "del adata_bulk.obs[\"is_primary_data\"]"
   ]
  },
  {
   "cell_type": "code",
   "execution_count": 7,
   "id": "061c201c-e6da-42ad-b69f-b10b09d6f385",
   "metadata": {},
   "outputs": [
    {
     "name": "stderr",
     "output_type": "stream",
     "text": [
      "... storing 'brain_region' as categorical\n",
      "... storing 'tissue_ontology_term_id' as categorical\n",
      "... storing 'assay_ontology_term_id' as categorical\n",
      "... storing 'disease_ontology_term_id' as categorical\n",
      "... storing 'cell_type_ontology_term_id' as categorical\n",
      "... storing 'ethnicity_ontology_term_id' as categorical\n",
      "... storing 'organism_ontology_term_id' as categorical\n",
      "... storing 'sex_ontology_term_id' as categorical\n",
      "... storing 'cell_type' as categorical\n",
      "... storing 'assay' as categorical\n",
      "... storing 'disease' as categorical\n",
      "... storing 'organism' as categorical\n",
      "... storing 'sex' as categorical\n",
      "... storing 'tissue' as categorical\n",
      "... storing 'ethnicity' as categorical\n",
      "... storing 'cluster_label_aggr' as categorical\n",
      "... storing 'cluster_label_area' as categorical\n",
      "... storing 'cluster_label_area_layers' as categorical\n"
     ]
    }
   ],
   "source": [
    "adata_bulk.write_h5ad(outdir+Finaleaf+\"/Badhuri_cycling_pBulk.Curated.\"+str(PseudooReplicates_per_group)+\"PRs.by\"+str(groupingCovariate)+\".h5ad\")\n",
    "total.to_csv(outdir+Finaleaf+\"/Badhuri_cycling_pBulk.Curated.\"+str(PseudooReplicates_per_group)+\"PRs.by\"+str(groupingCovariate)+\".tsv\", sep=\"\\t\")"
   ]
  },
  {
   "cell_type": "markdown",
   "id": "523854f3-6713-42e0-a27c-b5822991bd21",
   "metadata": {},
   "source": [
    "# Neurons prebulk"
   ]
  },
  {
   "cell_type": "code",
   "execution_count": 13,
   "id": "e2d13f25-bcd1-4576-bd48-a9f0010d24ad",
   "metadata": {},
   "outputs": [
    {
     "data": {
      "text/plain": [
       "cortical_area  individual\n",
       "motor          GW14            92\n",
       "               GW17           405\n",
       "               GW18          5499\n",
       "               GW19          1343\n",
       "               GW20             8\n",
       "               GW20_31          0\n",
       "               GW20_34          2\n",
       "               GW22           637\n",
       "               GW22T          621\n",
       "               GW25           317\n",
       "parietal       GW14             0\n",
       "               GW17             2\n",
       "               GW18             2\n",
       "               GW19          1593\n",
       "               GW20             0\n",
       "               GW20_31       1592\n",
       "               GW20_34       3096\n",
       "               GW22           524\n",
       "               GW22T          282\n",
       "               GW25          6766\n",
       "pfc            GW14             0\n",
       "               GW17           348\n",
       "               GW18          3522\n",
       "               GW19          2499\n",
       "               GW20          2187\n",
       "               GW20_31       3297\n",
       "               GW20_34       2014\n",
       "               GW22          1140\n",
       "               GW22T            4\n",
       "               GW25          7164\n",
       "somatosensory  GW14          1234\n",
       "               GW17            52\n",
       "               GW18             0\n",
       "               GW19             2\n",
       "               GW20          1060\n",
       "               GW20_31          0\n",
       "               GW20_34          0\n",
       "               GW22           248\n",
       "               GW22T          714\n",
       "               GW25           531\n",
       "temporal       GW14             0\n",
       "               GW17             0\n",
       "               GW18             4\n",
       "               GW19          1012\n",
       "               GW20             0\n",
       "               GW20_31       2011\n",
       "               GW20_34          0\n",
       "               GW22             0\n",
       "               GW22T            0\n",
       "               GW25            84\n",
       "v1             GW14           244\n",
       "               GW17           311\n",
       "               GW18          2300\n",
       "               GW19          1773\n",
       "               GW20          3324\n",
       "               GW20_31       1170\n",
       "               GW20_34       1825\n",
       "               GW22           474\n",
       "               GW22T            0\n",
       "               GW25             0\n",
       "dtype: int64"
      ]
     },
     "execution_count": 13,
     "metadata": {},
     "output_type": "execute_result"
    }
   ],
   "source": [
    "FinaLeaf=\"/Neurons\"\n",
    "adata = sc.read_h5ad(outdir+FinaLeaf+\"/Badhuri_Neurons_prebulk.Curated.h5ad\")\n",
    "sc.pp.calculate_qc_metrics(adata,  percent_top=None, log1p=False, inplace=True)\n",
    "\n",
    "adata.obs[\"individual_region\"] = adata.obs[\"individual\"].astype(str)+\"_\"+ adata.obs[\"cortical_area\"].astype(str)\n",
    "adata.obs[\"individual_region\"] = adata.obs[\"individual_region\"].astype(\"category\")\n",
    "adata.obs[\"individual_region\"]\n",
    "\n",
    "adata.obs.groupby([\"cortical_area\",\"individual\"]).size()"
   ]
  },
  {
   "cell_type": "markdown",
   "id": "24e7a9fe-9f8c-4d29-a615-7d3ff8b0bce8",
   "metadata": {},
   "source": [
    "## Groupingfactor = cortical_area"
   ]
  },
  {
   "cell_type": "code",
   "execution_count": 14,
   "id": "20fb3af0-d29e-4714-ab49-590509164a25",
   "metadata": {},
   "outputs": [
    {
     "name": "stdout",
     "output_type": "stream",
     "text": [
      "Pbulking with target of 20 PRs will result in following cells per PR\n"
     ]
    },
    {
     "data": {
      "text/plain": [
       "cortical_area\n",
       "motor             446.20\n",
       "parietal          692.85\n",
       "pfc              1108.75\n",
       "somatosensory     192.05\n",
       "temporal          155.55\n",
       "v1                571.05\n",
       "dtype: float64"
      ]
     },
     "execution_count": 14,
     "metadata": {},
     "output_type": "execute_result"
    }
   ],
   "source": [
    "groupingCovariate = \"cortical_area\"\n",
    "PseudooReplicates_per_group = 20\n",
    "print(\"Pbulking with target of \"+str(PseudooReplicates_per_group)+\" PRs will result in following cells per PR\")\n",
    "adata.obs.groupby(groupingCovariate).size() / PseudooReplicates_per_group\n"
   ]
  },
  {
   "cell_type": "code",
   "execution_count": 15,
   "id": "ba07f50a-877e-454d-929c-544547af632e",
   "metadata": {},
   "outputs": [],
   "source": [
    "total = pd.DataFrame(index = adata.var_names)\n",
    "total_metadata = pd.DataFrame()\n",
    "for group in adata.obs[groupingCovariate].cat.categories:\n",
    "\n",
    "    groupAdata = adata[adata.obs[groupingCovariate] == group].copy()\n",
    "    \n",
    "#    if groupAdata.shape[0] < 500:\n",
    "#        continue\n",
    "    \n",
    "    \n",
    "\n",
    "    group_cells = adata[adata.obs[groupingCovariate] == group].obs_names.tolist()\n",
    "    random.shuffle(group_cells)\n",
    "\n",
    "    metaCellslist=[group_cells[i::PseudooReplicates_per_group] for i in range(PseudooReplicates_per_group)]\n",
    "\n",
    "    for partition in enumerate(metaCellslist):\n",
    "\n",
    "        total['{}_{}'.format(group, partition[0])] = adata[partition[1]].X.sum(axis = 0).A1\n",
    "\n",
    "        total_metadata.loc['{}_{}'.format(group, partition[0]),\"group\"] = group\n",
    "        total_metadata.loc['{}_{}'.format(group, partition[0]),\"pseudoreplicate\"] = partition[0]\n",
    "        total_metadata.loc['{}_{}'.format(group, partition[0]),\"number_of_cell\"] = int(len(partition[1]))\n",
    "    \n",
    "    for obsMD in [obsMD for obsMD in groupAdata.obs.columns.tolist() if len(groupAdata.obs[obsMD].unique()) == 1 and obsMD != groupingCovariate]:\n",
    "        total_metadata.loc[[\"_\".join(l) for l in list(itertools.product([group],[str(r)  for r in list(range(PseudooReplicates_per_group))]))], obsMD ] = adata.obs.loc[adata.obs[groupingCovariate] == group,obsMD][0]\n",
    "        \n",
    "        \n",
    "total_metadata = total_metadata.dropna(axis = 1)"
   ]
  },
  {
   "cell_type": "code",
   "execution_count": 16,
   "id": "244f0d19-c0a2-4fcb-ae40-1f9e1be9992b",
   "metadata": {},
   "outputs": [],
   "source": [
    "adata_bulk = sc.AnnData(total.transpose()).copy()\n",
    "adata_bulk.var = adata.var.copy()\n",
    "adata_bulk.obs = pd.concat([adata_bulk.obs, total_metadata], axis = 1)\n",
    "\n",
    "\n",
    "adata_bulk.obs[\"group\"] = adata_bulk.obs[\"group\"].astype(\"category\")\n",
    "adata_bulk.uns[\"group_colors\"] = [colorMap[i][\"color\"] for i in adata_bulk.obs[\"group\"].cat.categories]\n",
    "\n",
    "del adata_bulk.obs[\"is_primary_data\"]"
   ]
  },
  {
   "cell_type": "code",
   "execution_count": 17,
   "id": "bfff6899-4cc2-400c-b371-53592d59b464",
   "metadata": {},
   "outputs": [
    {
     "name": "stderr",
     "output_type": "stream",
     "text": [
      "... storing 'brain_region' as categorical\n",
      "... storing 'tissue_ontology_term_id' as categorical\n",
      "... storing 'assay_ontology_term_id' as categorical\n",
      "... storing 'disease_ontology_term_id' as categorical\n",
      "... storing 'cell_type_ontology_term_id' as categorical\n",
      "... storing 'ethnicity_ontology_term_id' as categorical\n",
      "... storing 'organism_ontology_term_id' as categorical\n",
      "... storing 'sex_ontology_term_id' as categorical\n",
      "... storing 'cell_type' as categorical\n",
      "... storing 'assay' as categorical\n",
      "... storing 'disease' as categorical\n",
      "... storing 'organism' as categorical\n",
      "... storing 'sex' as categorical\n",
      "... storing 'tissue' as categorical\n",
      "... storing 'ethnicity' as categorical\n",
      "... storing 'cluster_label_aggr' as categorical\n",
      "... storing 'batch' as categorical\n",
      "... storing 'cluster_label_area' as categorical\n",
      "... storing 'GeschIngestedAnno' as categorical\n",
      "... storing 'cluster_label_area_layers' as categorical\n"
     ]
    }
   ],
   "source": [
    "adata_bulk.write_h5ad(outdir+FinaLeaf+\"/Badhuri_neurons_pBulk.Curated.\"+str(PseudooReplicates_per_group)+\"PRs.by\"+str(groupingCovariate)+\".h5ad\")\n",
    "total.to_csv(outdir+FinaLeaf+\"/Badhuri_neurons_pBulk.Curated.\"+str(PseudooReplicates_per_group)+\"PRs.by\"+str(groupingCovariate)+\".tsv\", sep=\"\\t\")"
   ]
  },
  {
   "cell_type": "markdown",
   "id": "e35763bc-19a2-4143-b0b8-e0f1056ffd22",
   "metadata": {},
   "source": [
    "# Progenitors prebulk"
   ]
  },
  {
   "cell_type": "code",
   "execution_count": 18,
   "id": "3d664757-4886-4b2f-90fe-bd02e5da7b0b",
   "metadata": {},
   "outputs": [
    {
     "data": {
      "text/plain": [
       "cortical_area  individual\n",
       "motor          GW14            2\n",
       "               GW16          287\n",
       "               GW17           10\n",
       "               GW18            0\n",
       "               GW18_2        392\n",
       "                            ... \n",
       "v1             GW20_31       208\n",
       "               GW20_34        76\n",
       "               GW22           45\n",
       "               GW22T           0\n",
       "               GW25            0\n",
       "Length: 72, dtype: int64"
      ]
     },
     "execution_count": 18,
     "metadata": {},
     "output_type": "execute_result"
    }
   ],
   "source": [
    "FinaLeaf=\"/Progenitors\"\n",
    "adata = sc.read_h5ad(outdir+FinaLeaf+\"/Badhuri_progenitors_prebulk.Curated.h5ad\")\n",
    "sc.pp.calculate_qc_metrics(adata,  percent_top=None, log1p=False, inplace=True)\n",
    "\n",
    "adata.obs[\"individual_region\"] = adata.obs[\"individual\"].astype(str)+\"_\"+ adata.obs[\"cortical_area\"].astype(str)\n",
    "adata.obs[\"individual_region\"] = adata.obs[\"individual_region\"].astype(\"category\")\n",
    "adata.obs[\"individual_region\"]\n",
    "\n",
    "adata.obs.groupby([\"cortical_area\",\"individual\"]).size()"
   ]
  },
  {
   "cell_type": "markdown",
   "id": "dba31758-0b38-45e7-b8f1-1afceea6daa3",
   "metadata": {},
   "source": [
    "## Groupingfactor = cortical_area"
   ]
  },
  {
   "cell_type": "code",
   "execution_count": 19,
   "id": "4299db20-7515-4624-9020-1f859b002a20",
   "metadata": {},
   "outputs": [
    {
     "name": "stdout",
     "output_type": "stream",
     "text": [
      "Pbulking with target of 20 PRs will result in following cells per PR\n"
     ]
    },
    {
     "data": {
      "text/plain": [
       "cortical_area\n",
       "motor             55.20\n",
       "parietal         110.00\n",
       "pfc               48.30\n",
       "somatosensory     55.25\n",
       "temporal          90.15\n",
       "v1                96.40\n",
       "dtype: float64"
      ]
     },
     "execution_count": 19,
     "metadata": {},
     "output_type": "execute_result"
    }
   ],
   "source": [
    "groupingCovariate = \"cortical_area\"\n",
    "PseudooReplicates_per_group = 20\n",
    "print(\"Pbulking with target of \"+str(PseudooReplicates_per_group)+\" PRs will result in following cells per PR\")\n",
    "adata.obs.groupby(groupingCovariate).size() / PseudooReplicates_per_group\n"
   ]
  },
  {
   "cell_type": "code",
   "execution_count": 20,
   "id": "e18e7299-1896-4592-ba07-05da984990c2",
   "metadata": {},
   "outputs": [],
   "source": [
    "total = pd.DataFrame(index = adata.var_names)\n",
    "total_metadata = pd.DataFrame()\n",
    "for group in adata.obs[groupingCovariate].cat.categories:\n",
    "\n",
    "    groupAdata = adata[adata.obs[groupingCovariate] == group].copy()\n",
    "    \n",
    "#    if groupAdata.shape[0] < 500:\n",
    "#        continue\n",
    "    \n",
    "\n",
    "    group_cells = adata[adata.obs[groupingCovariate] == group].obs_names.tolist()\n",
    "    random.shuffle(group_cells)\n",
    "\n",
    "    metaCellslist=[group_cells[i::PseudooReplicates_per_group] for i in range(PseudooReplicates_per_group)]\n",
    "\n",
    "    for partition in enumerate(metaCellslist):\n",
    "\n",
    "        total['{}_{}'.format(group, partition[0])] = adata[partition[1]].X.sum(axis = 0).A1\n",
    "\n",
    "        total_metadata.loc['{}_{}'.format(group, partition[0]),\"group\"] = group\n",
    "        total_metadata.loc['{}_{}'.format(group, partition[0]),\"pseudoreplicate\"] = partition[0]\n",
    "        total_metadata.loc['{}_{}'.format(group, partition[0]),\"number_of_cell\"] = int(len(partition[1]))\n",
    "    \n",
    "    for obsMD in [obsMD for obsMD in groupAdata.obs.columns.tolist() if len(groupAdata.obs[obsMD].unique()) == 1 and obsMD != groupingCovariate]:\n",
    "        total_metadata.loc[[\"_\".join(l) for l in list(itertools.product([group],[str(r)  for r in list(range(PseudooReplicates_per_group))]))], obsMD ] = adata.obs.loc[adata.obs[groupingCovariate] == group,obsMD][0]\n",
    "        \n",
    "        \n",
    "total_metadata = total_metadata.dropna(axis = 1)"
   ]
  },
  {
   "cell_type": "code",
   "execution_count": 21,
   "id": "5718c78f-4926-445c-8963-2b1ed70c37c2",
   "metadata": {},
   "outputs": [],
   "source": [
    "adata_bulk = sc.AnnData(total.transpose()).copy()\n",
    "adata_bulk.var = adata.var.copy()\n",
    "adata_bulk.obs = pd.concat([adata_bulk.obs, total_metadata], axis = 1)\n",
    "\n",
    "adata_bulk.obs[\"group\"] = adata_bulk.obs[\"group\"].astype(\"category\")\n",
    "adata_bulk.uns[\"group_colors\"] = [colorMap[i][\"color\"] for i in adata_bulk.obs[\"group\"].cat.categories]\n",
    "\n",
    "del adata_bulk.obs[\"is_primary_data\"]"
   ]
  },
  {
   "cell_type": "code",
   "execution_count": 22,
   "id": "75344998-b201-4814-9a20-42cf60e574b7",
   "metadata": {},
   "outputs": [
    {
     "name": "stderr",
     "output_type": "stream",
     "text": [
      "... storing 'brain_region' as categorical\n",
      "... storing 'tissue_ontology_term_id' as categorical\n",
      "... storing 'assay_ontology_term_id' as categorical\n",
      "... storing 'disease_ontology_term_id' as categorical\n",
      "... storing 'cell_type_ontology_term_id' as categorical\n",
      "... storing 'ethnicity_ontology_term_id' as categorical\n",
      "... storing 'organism_ontology_term_id' as categorical\n",
      "... storing 'sex_ontology_term_id' as categorical\n",
      "... storing 'cell_type' as categorical\n",
      "... storing 'assay' as categorical\n",
      "... storing 'disease' as categorical\n",
      "... storing 'organism' as categorical\n",
      "... storing 'sex' as categorical\n",
      "... storing 'tissue' as categorical\n",
      "... storing 'ethnicity' as categorical\n",
      "... storing 'cluster_label_aggr' as categorical\n",
      "... storing 'cluster_label_area' as categorical\n",
      "... storing 'GeschIngestedAnno' as categorical\n",
      "... storing 'cluster_label_area_layers' as categorical\n"
     ]
    }
   ],
   "source": [
    "adata_bulk.write_h5ad(outdir+FinaLeaf+\"/Badhuri_progenitors_pBulk.Curated.\"+str(PseudooReplicates_per_group)+\"PRs.by\"+str(groupingCovariate)+\".h5ad\")\n",
    "total.to_csv(outdir+FinaLeaf+\"/Badhuri_progenitors_pBulk.Curated.\"+str(PseudooReplicates_per_group)+\"PRs.by\"+str(groupingCovariate)+\".tsv\", sep=\"\\t\")"
   ]
  },
  {
   "cell_type": "code",
   "execution_count": null,
   "id": "f4ced85d-2b9a-4474-8d9b-e4f16e0d855a",
   "metadata": {},
   "outputs": [],
   "source": []
  }
 ],
 "metadata": {
  "kernelspec": {
   "display_name": "Python 3",
   "language": "python",
   "name": "python3"
  },
  "language_info": {
   "codemirror_mode": {
    "name": "ipython",
    "version": 3
   },
   "file_extension": ".py",
   "mimetype": "text/x-python",
   "name": "python",
   "nbconvert_exporter": "python",
   "pygments_lexer": "ipython3",
   "version": "3.8.5"
  }
 },
 "nbformat": 4,
 "nbformat_minor": 5
}
