{
 "cells": [
  {
   "cell_type": "code",
   "execution_count": 2,
   "id": "cubic-converter",
   "metadata": {},
   "outputs": [],
   "source": [
    "import yaml"
   ]
  },
  {
   "cell_type": "code",
   "execution_count": 9,
   "id": "natural-cleaners",
   "metadata": {},
   "outputs": [],
   "source": [
    "pluto = yaml.dump({\"a\": 1, \"b\": {2: 1237.3, 4: 1243.2}, \"c\": False, \"d\": None})"
   ]
  },
  {
   "cell_type": "code",
   "execution_count": 10,
   "id": "contrary-blend",
   "metadata": {},
   "outputs": [
    {
     "name": "stdout",
     "output_type": "stream",
     "text": [
      "a: 1\n",
      "b:\n",
      "  2: 1237.3\n",
      "  4: 1243.2\n",
      "c: false\n",
      "d: null\n",
      "\n"
     ]
    }
   ],
   "source": [
    "print(pluto)"
   ]
  }
 ],
 "metadata": {
  "kernelspec": {
   "display_name": "Python [conda env:standard] *",
   "language": "python",
   "name": "conda-env-standard-py"
  },
  "language_info": {
   "codemirror_mode": {
    "name": "ipython",
    "version": 3
   },
   "file_extension": ".py",
   "mimetype": "text/x-python",
   "name": "python",
   "nbconvert_exporter": "python",
   "pygments_lexer": "ipython3",
   "version": "3.8.5"
  }
 },
 "nbformat": 4,
 "nbformat_minor": 5
}
